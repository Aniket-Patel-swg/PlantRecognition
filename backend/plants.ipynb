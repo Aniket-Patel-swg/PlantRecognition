{
  "cells": [
    {
      "cell_type": "markdown",
      "metadata": {
        "colab_type": "text",
        "id": "view-in-github"
      },
      "source": [
        "<a href=\"https://colab.research.google.com/github/virendrasinh734/medicinal_plant_identification/blob/main/Untitled3.ipynb\" target=\"_parent\"><img src=\"https://colab.research.google.com/assets/colab-badge.svg\" alt=\"Open In Colab\"/></a>"
      ]
    },
    {
      "cell_type": "code",
      "execution_count": 1,
      "metadata": {
        "colab": {
          "base_uri": "https://localhost:8080/"
        },
        "id": "QOz4QFTcxTqn",
        "outputId": "b922a909-58f2-4e7a-bc40-32b463a3c9cf"
      },
      "outputs": [
        {
          "name": "stderr",
          "output_type": "stream",
          "text": [
            "'apt-get' is not recognized as an internal or external command,\n",
            "operable program or batch file.\n",
            "'wget' is not recognized as an internal or external command,\n",
            "operable program or batch file.\n"
          ]
        }
      ],
      "source": [
        "!apt-get install wget\n",
        "!wget https://prod-dcd-datasets-cache-zipfiles.s3.eu-west-1.amazonaws.com/748f8jkphb-3.zip"
      ]
    },
    {
      "cell_type": "code",
      "execution_count": 2,
      "metadata": {
        "colab": {
          "base_uri": "https://localhost:8080/"
        },
        "id": "qLP-emqpyYkL",
        "outputId": "555566dd-2740-42c6-ad31-ad350249fc02"
      },
      "outputs": [
        {
          "name": "stderr",
          "output_type": "stream",
          "text": [
            "'unzip' is not recognized as an internal or external command,\n",
            "operable program or batch file.\n"
          ]
        }
      ],
      "source": [
        "!unzip 748f8jkphb-3.zip"
      ]
    },
    {
      "cell_type": "code",
      "execution_count": 3,
      "metadata": {
        "colab": {
          "base_uri": "https://localhost:8080/"
        },
        "id": "92z4bf02y3Ho",
        "outputId": "ac68c17d-4b80-41e1-9c37-5865a88e60f4"
      },
      "outputs": [
        {
          "ename": "ModuleNotFoundError",
          "evalue": "No module named 'tensorflow'",
          "output_type": "error",
          "traceback": [
            "\u001b[1;31m---------------------------------------------------------------------------\u001b[0m",
            "\u001b[1;31mModuleNotFoundError\u001b[0m                       Traceback (most recent call last)",
            "\u001b[1;32mc:\\Users\\Aniket\\React\\medicinal_plant_identification\\plants.ipynb Cell 4\u001b[0m line \u001b[0;36m1\n\u001b[1;32m----> <a href='vscode-notebook-cell:/c%3A/Users/Aniket/React/medicinal_plant_identification/plants.ipynb#W3sZmlsZQ%3D%3D?line=0'>1</a>\u001b[0m \u001b[39mimport\u001b[39;00m \u001b[39mtensorflow\u001b[39;00m \u001b[39mas\u001b[39;00m \u001b[39mtf\u001b[39;00m\n\u001b[0;32m      <a href='vscode-notebook-cell:/c%3A/Users/Aniket/React/medicinal_plant_identification/plants.ipynb#W3sZmlsZQ%3D%3D?line=1'>2</a>\u001b[0m dataset \u001b[39m=\u001b[39m tf\u001b[39m.\u001b[39mkeras\u001b[39m.\u001b[39mpreprocessing\u001b[39m.\u001b[39mimage_dataset_from_directory(\n\u001b[0;32m      <a href='vscode-notebook-cell:/c%3A/Users/Aniket/React/medicinal_plant_identification/plants.ipynb#W3sZmlsZQ%3D%3D?line=2'>3</a>\u001b[0m     \u001b[39m\"\u001b[39m\u001b[39m/content/Indian Medicinal Leaves Image Datasets/Medicinal Leaf dataset\u001b[39m\u001b[39m\"\u001b[39m,\n\u001b[0;32m      <a href='vscode-notebook-cell:/c%3A/Users/Aniket/React/medicinal_plant_identification/plants.ipynb#W3sZmlsZQ%3D%3D?line=3'>4</a>\u001b[0m     shuffle\u001b[39m=\u001b[39m\u001b[39mTrue\u001b[39;00m,\n\u001b[0;32m      <a href='vscode-notebook-cell:/c%3A/Users/Aniket/React/medicinal_plant_identification/plants.ipynb#W3sZmlsZQ%3D%3D?line=4'>5</a>\u001b[0m     batch_size\u001b[39m=\u001b[39m\u001b[39m32\u001b[39m,\n\u001b[0;32m      <a href='vscode-notebook-cell:/c%3A/Users/Aniket/React/medicinal_plant_identification/plants.ipynb#W3sZmlsZQ%3D%3D?line=5'>6</a>\u001b[0m     image_size\u001b[39m=\u001b[39m(\u001b[39m299\u001b[39m, \u001b[39m299\u001b[39m),\n\u001b[0;32m      <a href='vscode-notebook-cell:/c%3A/Users/Aniket/React/medicinal_plant_identification/plants.ipynb#W3sZmlsZQ%3D%3D?line=6'>7</a>\u001b[0m )\n\u001b[0;32m      <a href='vscode-notebook-cell:/c%3A/Users/Aniket/React/medicinal_plant_identification/plants.ipynb#W3sZmlsZQ%3D%3D?line=8'>9</a>\u001b[0m labels \u001b[39m=\u001b[39m dataset\u001b[39m.\u001b[39mclass_names\n",
            "\u001b[1;31mModuleNotFoundError\u001b[0m: No module named 'tensorflow'"
          ]
        }
      ],
      "source": [
        "import tensorflow as tf\n",
        "dataset = tf.keras.preprocessing.image_dataset_from_directory(\n",
        "    \"/content/Indian Medicinal Leaves Image Datasets/Medicinal Leaf dataset\",\n",
        "    shuffle=True,\n",
        "    batch_size=32,\n",
        "    image_size=(299, 299),\n",
        ")\n",
        "\n",
        "labels = dataset.class_names\n",
        "labels"
      ]
    },
    {
      "cell_type": "code",
      "execution_count": null,
      "metadata": {
        "colab": {
          "base_uri": "https://localhost:8080/"
        },
        "id": "f9pM5QPXzPvK",
        "outputId": "ff4e539e-9f62-4508-f703-dda7ebf1b4c7"
      },
      "outputs": [
        {
          "name": "stdout",
          "output_type": "stream",
          "text": [
            "(32, 299, 299, 3)\n",
            "[49 49  3 49 56 63 23  9 70 69 49 79 28  5 67  7 26 23 58 21 29 57 42 76\n",
            "  4 36 50  1 61 49 35  4]\n"
          ]
        }
      ],
      "source": [
        "import numpy as np\n",
        "\n",
        "for image_batch, labels_batch in dataset.take(1):\n",
        "    print(image_batch.shape)\n",
        "    print(labels_batch.numpy())\n",
        "    break"
      ]
    },
    {
      "cell_type": "code",
      "execution_count": null,
      "metadata": {
        "colab": {
          "base_uri": "https://localhost:8080/"
        },
        "id": "qgHdvbmOzUXF",
        "outputId": "ccb945fd-b52b-48f1-ec56-c74b000357f2"
      },
      "outputs": [
        {
          "data": {
            "text/plain": [
              "(172, 43)"
            ]
          },
          "execution_count": 5,
          "metadata": {},
          "output_type": "execute_result"
        }
      ],
      "source": [
        "train_size = int(0.8 * len(dataset))\n",
        "test_size = int(0.2 * len(dataset))\n",
        "train_size, test_size"
      ]
    },
    {
      "cell_type": "code",
      "execution_count": null,
      "metadata": {
        "id": "rnFSGghYzvSC"
      },
      "outputs": [],
      "source": [
        "def get_dataset_partisions_tf(ds, train_split=0.8, test_split=0.2, shuffle=True, shuffle_size=10000):\n",
        "    if shuffle:\n",
        "        ds = ds.shuffle(shuffle_size, seed=12)\n",
        "    train_size = int(train_split * len(ds))\n",
        "    test_size = int(test_split * len(ds))\n",
        "    train_ds = ds.take(train_size)\n",
        "    test_ds = ds.skip(train_size)\n",
        "    val_ds = test_ds.skip(test_size)\n",
        "    test_ds = test_ds.take(test_size)\n",
        "    return train_ds, test_ds, val_ds"
      ]
    },
    {
      "cell_type": "code",
      "execution_count": null,
      "metadata": {
        "colab": {
          "base_uri": "https://localhost:8080/"
        },
        "id": "sw3iqCdAzyzn",
        "outputId": "0a46d74f-35f9-4129-bab5-de1ded9d9b58"
      },
      "outputs": [
        {
          "data": {
            "text/plain": [
              "(151, 33, 32)"
            ]
          },
          "execution_count": 7,
          "metadata": {},
          "output_type": "execute_result"
        }
      ],
      "source": [
        "train_ds, val_ds, test_ds = get_dataset_partisions_tf(dataset, train_split=0.7, test_split=0.15, shuffle=True, shuffle_size=10000)\n",
        "len(train_ds), len(test_ds), len(val_ds)"
      ]
    },
    {
      "cell_type": "code",
      "execution_count": null,
      "metadata": {
        "id": "YaiaglsUz5Ro"
      },
      "outputs": [],
      "source": [
        "resize_and_rescale = tf.keras.Sequential([\n",
        "    tf.keras.layers.experimental.preprocessing.Resizing(299, 299),\n",
        "    tf.keras.layers.experimental.preprocessing.Rescaling(1./255)\n",
        "])"
      ]
    },
    {
      "cell_type": "code",
      "execution_count": null,
      "metadata": {
        "colab": {
          "base_uri": "https://localhost:8080/"
        },
        "id": "LuCzsWmcz7p_",
        "outputId": "a8a07368-9753-4913-b6ab-fc0f30ea6d52"
      },
      "outputs": [
        {
          "name": "stdout",
          "output_type": "stream",
          "text": [
            "Downloading data from https://storage.googleapis.com/tensorflow/keras-applications/inception_v3/inception_v3_weights_tf_dim_ordering_tf_kernels_notop.h5\n",
            "87910968/87910968 [==============================] - 1s 0us/step\n"
          ]
        }
      ],
      "source": [
        "base_model = tf.keras.applications.InceptionV3(\n",
        "    weights='imagenet',\n",
        "    input_shape=(299, 299, 3),\n",
        "    include_top=False,\n",
        "    pooling='avg',\n",
        "    classifier_activation='softmax',\n",
        "    classes=len(labels)\n",
        ")"
      ]
    },
    {
      "cell_type": "code",
      "execution_count": null,
      "metadata": {
        "colab": {
          "base_uri": "https://localhost:8080/"
        },
        "id": "Ng_csOvSz-1o",
        "outputId": "b550e924-efa2-456e-aec7-847c535d5c18"
      },
      "outputs": [
        {
          "name": "stdout",
          "output_type": "stream",
          "text": [
            "Model: \"model\"\n",
            "_________________________________________________________________\n",
            " Layer (type)                Output Shape              Param #   \n",
            "=================================================================\n",
            " input_2 (InputLayer)        [(None, 299, 299, 3)]     0         \n",
            "                                                                 \n",
            " sequential (Sequential)     (None, 299, 299, 3)       0         \n",
            "                                                                 \n",
            " inception_v3 (Functional)   (None, 2048)              21802784  \n",
            "                                                                 \n",
            " dense (Dense)               (None, 128)               262272    \n",
            "                                                                 \n",
            " dropout (Dropout)           (None, 128)               0         \n",
            "                                                                 \n",
            " dense_1 (Dense)             (None, 80)                10320     \n",
            "                                                                 \n",
            "=================================================================\n",
            "Total params: 22075376 (84.21 MB)\n",
            "Trainable params: 272592 (1.04 MB)\n",
            "Non-trainable params: 21802784 (83.17 MB)\n",
            "_________________________________________________________________\n",
            "Epoch 1/20\n",
            "151/151 [==============================] - 443s 2s/step - loss: 3.8231 - accuracy: 0.1243 - val_loss: 2.9369 - val_accuracy: 0.3399\n",
            "Epoch 2/20\n",
            "151/151 [==============================] - 485s 2s/step - loss: 2.6759 - accuracy: 0.3377 - val_loss: 1.9581 - val_accuracy: 0.5664\n",
            "Epoch 3/20\n",
            "151/151 [==============================] - 482s 2s/step - loss: 2.0226 - accuracy: 0.4695 - val_loss: 1.4674 - val_accuracy: 0.6670\n",
            "Epoch 4/20\n",
            "151/151 [==============================] - 432s 2s/step - loss: 1.6653 - accuracy: 0.5672 - val_loss: 1.0979 - val_accuracy: 0.7725\n",
            "Epoch 5/20\n",
            "151/151 [==============================] - 436s 2s/step - loss: 1.4075 - accuracy: 0.6193 - val_loss: 0.9502 - val_accuracy: 0.7974\n",
            "Epoch 6/20\n",
            "151/151 [==============================] - 483s 2s/step - loss: 1.2391 - accuracy: 0.6622 - val_loss: 0.7552 - val_accuracy: 0.8486\n",
            "Epoch 7/20\n",
            "151/151 [==============================] - 486s 2s/step - loss: 1.0574 - accuracy: 0.7191 - val_loss: 0.6645 - val_accuracy: 0.8662\n",
            "Epoch 8/20\n",
            "151/151 [==============================] - 431s 2s/step - loss: 0.9809 - accuracy: 0.7320 - val_loss: 0.5610 - val_accuracy: 0.8828\n",
            "Epoch 9/20\n",
            "151/151 [==============================] - 484s 2s/step - loss: 0.9011 - accuracy: 0.7546 - val_loss: 0.5108 - val_accuracy: 0.8943\n",
            "Epoch 10/20\n",
            "151/151 [==============================] - 431s 2s/step - loss: 0.8297 - accuracy: 0.7658 - val_loss: 0.4460 - val_accuracy: 0.9209\n",
            "Epoch 11/20\n",
            "151/151 [==============================] - 487s 2s/step - loss: 0.7562 - accuracy: 0.7853 - val_loss: 0.3831 - val_accuracy: 0.9258\n",
            "Epoch 12/20\n",
            "151/151 [==============================] - 432s 2s/step - loss: 0.6881 - accuracy: 0.8085 - val_loss: 0.3541 - val_accuracy: 0.9368\n",
            "Epoch 13/20\n",
            "151/151 [==============================] - 432s 2s/step - loss: 0.6710 - accuracy: 0.8085 - val_loss: 0.3265 - val_accuracy: 0.9377\n",
            "Epoch 14/20\n",
            "151/151 [==============================] - 474s 2s/step - loss: 0.6053 - accuracy: 0.8274 - val_loss: 0.3228 - val_accuracy: 0.9259\n",
            "Epoch 15/20\n",
            "151/151 [==============================] - 419s 1s/step - loss: 0.5662 - accuracy: 0.8386 - val_loss: 0.2460 - val_accuracy: 0.9580\n",
            "Epoch 16/20\n",
            "151/151 [==============================] - 420s 1s/step - loss: 0.5417 - accuracy: 0.8413 - val_loss: 0.2408 - val_accuracy: 0.9609\n",
            "Epoch 17/20\n",
            "151/151 [==============================] - 420s 1s/step - loss: 0.5068 - accuracy: 0.8520 - val_loss: 0.1846 - val_accuracy: 0.9674\n",
            "Epoch 18/20\n",
            "151/151 [==============================] - 417s 1s/step - loss: 0.4822 - accuracy: 0.8622 - val_loss: 0.1869 - val_accuracy: 0.9713\n",
            "Epoch 19/20\n",
            "151/151 [==============================] - 421s 1s/step - loss: 0.4575 - accuracy: 0.8687 - val_loss: 0.1668 - val_accuracy: 0.9756\n",
            "Epoch 20/20\n",
            "151/151 [==============================] - 419s 1s/step - loss: 0.4537 - accuracy: 0.8699 - val_loss: 0.1618 - val_accuracy: 0.9756\n"
          ]
        }
      ],
      "source": [
        "base_model.trainable = False\n",
        "\n",
        "inputs = tf.keras.Input(shape=(299, 299, 3))\n",
        "x = resize_and_rescale(inputs)\n",
        "x = base_model(x, training=False)\n",
        "x = tf.keras.layers.Dense(128, activation='relu')(x)\n",
        "x = tf.keras.layers.Dropout(0.2)(x)\n",
        "outputs = tf.keras.layers.Dense(len(labels), activation='softmax')(x)\n",
        "model = tf.keras.Model(inputs, outputs)\n",
        "\n",
        "model.compile(\n",
        "    optimizer='adam',\n",
        "    loss='sparse_categorical_crossentropy',\n",
        "    metrics=['accuracy']\n",
        ")\n",
        "\n",
        "model.summary()\n",
        "\n",
        "history = model.fit(\n",
        "    train_ds,\n",
        "    validation_data=val_ds,\n",
        "    batch_size=32,\n",
        "    epochs=20\n",
        ")\n"
      ]
    },
    {
      "cell_type": "code",
      "execution_count": null,
      "metadata": {
        "id": "tfk4XhFD0P4J"
      },
      "outputs": [],
      "source": [
        "history"
      ]
    },
    {
      "cell_type": "code",
      "execution_count": null,
      "metadata": {
        "colab": {
          "base_uri": "https://localhost:8080/"
        },
        "id": "zNTR-cPe0QgB",
        "outputId": "152eecd3-6355-4352-f3a5-44d1b45a828e"
      },
      "outputs": [
        {
          "name": "stderr",
          "output_type": "stream",
          "text": [
            "/usr/local/lib/python3.10/dist-packages/keras/src/engine/training.py:3079: UserWarning: You are saving your model as an HDF5 file via `model.save()`. This file format is considered legacy. We recommend using instead the native Keras format, e.g. `model.save('my_model.keras')`.\n",
            "  saving_api.save_model(\n"
          ]
        }
      ],
      "source": [
        "model.save(\"my_mmodel.h5\")"
      ]
    },
    {
      "cell_type": "code",
      "execution_count": null,
      "metadata": {
        "colab": {
          "base_uri": "https://localhost:8080/"
        },
        "id": "cOl26pt-0MxX",
        "outputId": "a73c376b-f23f-4d92-f0d0-7ef5259d6314"
      },
      "outputs": [
        {
          "name": "stdout",
          "output_type": "stream",
          "text": [
            "33/33 [==============================] - 204s 130ms/step - loss: 0.1578 - accuracy: 0.9792\n"
          ]
        },
        {
          "data": {
            "text/plain": [
              "[0.15783238410949707, 0.9791666865348816]"
            ]
          },
          "execution_count": 12,
          "metadata": {},
          "output_type": "execute_result"
        }
      ],
      "source": [
        "model.evaluate(test_ds)"
      ]
    },
    {
      "cell_type": "code",
      "execution_count": null,
      "metadata": {
        "id": "mdizMjmnp-WX"
      },
      "outputs": [],
      "source": [
        "model.save(\"my_h5_model.h5\")"
      ]
    }
  ],
  "metadata": {
    "accelerator": "GPU",
    "colab": {
      "authorship_tag": "ABX9TyMWcgMTcJGKtbLG8mFySW75",
      "gpuType": "T4",
      "include_colab_link": true,
      "provenance": []
    },
    "kernelspec": {
      "display_name": "Python 3",
      "name": "python3"
    },
    "language_info": {
      "codemirror_mode": {
        "name": "ipython",
        "version": 3
      },
      "file_extension": ".py",
      "mimetype": "text/x-python",
      "name": "python",
      "nbconvert_exporter": "python",
      "pygments_lexer": "ipython3",
      "version": "3.11.5"
    }
  },
  "nbformat": 4,
  "nbformat_minor": 0
}
